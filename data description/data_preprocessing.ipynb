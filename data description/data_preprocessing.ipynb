{
 "cells": [
  {
   "cell_type": "code",
   "execution_count": 1,
   "metadata": {},
   "outputs": [],
   "source": [
    "import os\n",
    "import h5py\n",
    "import numpy as np\n",
    "from skimage.transform import resize"
   ]
  },
  {
   "cell_type": "code",
   "execution_count": 2,
   "metadata": {},
   "outputs": [],
   "source": [
    "data_dir = 'C:\\\\Users\\\\VANSH GARG\\\\.cache\\\\kagglehub\\\\datasets\\\\awsaf49\\\\brats2020-training-data\\\\versions\\\\3\\\\BraTS2020_training_data\\\\content\\\\data'\n",
    "h5_files = [f for f in sorted(os.listdir(data_dir)) if f.endswith('.h5')]"
   ]
  },
  {
   "cell_type": "code",
   "execution_count": null,
   "metadata": {},
   "outputs": [],
   "source": [
    "def data_generation(files):\n",
    "    data_sorted=[0]*(155*369)\n",
    "    for i in files:\n",
    "        L=i.split(\"_\")\n",
    "        k=int(L[-1].split(\".\")[0])\n",
    "        n=int(L[1])\n",
    "        data_sorted[(155*(n-1))+k]=i\n",
    "    img_slices=[]\n",
    "    msk_slices=[]\n",
    "    j=0\n",
    "    with h5py.File(\"brain_tumor_data4.h5\", \"w\") as hf:\n",
    "        hf.create_dataset(\"X\", shape=(369, 128, 128, 32, 4), dtype='float16', chunks=True)\n",
    "        hf.create_dataset(\"Y\", shape=(369, 128, 128, 32), dtype='float16', chunks=True)\n",
    "        for k,i in enumerate(data_sorted):\n",
    "            j+=1\n",
    "            file=os.path.join(data_dir,i)\n",
    "            with h5py.File(file, 'r') as f:\n",
    "\n",
    "                image_data=np.array(f['image'],dtype='float16')\n",
    "                #image_data= resize(image_data,(*(64,64),image_data.shape[2]),preserve_range=True,anti_aliasing=True)\n",
    "                image_data = (image_data - np.min(image_data)) / (np.max(image_data) - np.min(image_data) + 1e-6)\n",
    "                mask_data=np.array(f['mask'],dtype='float16')\n",
    "                mask_data = np.mean(mask_data, axis=-1)\n",
    "                #mask_data=resize(mask_data,(32,32),preserve_range=True,anti_aliasing=False)\n",
    "                mask_data = (mask_data - np.min(mask_data)) / (np.max(mask_data) - np.min(mask_data) + 1e-6)\n",
    "                if np.max(mask_data) > 0:\n",
    "                    img_slices.append(image_data)\n",
    "                    msk_slices.append(mask_data)\n",
    "                if j==155:\n",
    "                    img_voxel=np.stack(img_slices,axis=2)\n",
    "                    msk_voxel=np.stack(msk_slices,axis=2)\n",
    "                    img_voxel= resize(img_voxel,(128,128,32,4),preserve_range=True,anti_aliasing=True)\n",
    "                    msk_voxel= resize(msk_voxel,(128,128,32),preserve_range=True,anti_aliasing=True)\n",
    "                    hf[\"X\"][(k//155)] = img_voxel\n",
    "                    hf[\"Y\"][(k//155)] = msk_voxel\n",
    "                    img_slices=[]\n",
    "                    msk_slices=[]\n",
    "                    j=0\n",
    "                    continue    \n",
    "data_generation(h5_files)\n"
   ]
  }
 ],
 "metadata": {
  "kernelspec": {
   "display_name": "Python 3",
   "language": "python",
   "name": "python3"
  },
  "language_info": {
   "codemirror_mode": {
    "name": "ipython",
    "version": 3
   },
   "file_extension": ".py",
   "mimetype": "text/x-python",
   "name": "python",
   "nbconvert_exporter": "python",
   "pygments_lexer": "ipython3",
   "version": "3.12.7"
  }
 },
 "nbformat": 4,
 "nbformat_minor": 2
}
